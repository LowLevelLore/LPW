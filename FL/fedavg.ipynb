{
 "cells": [
  {
   "cell_type": "code",
   "execution_count": null,
   "metadata": {},
   "outputs": [],
   "source": [
    "import torch\n",
    "import torch.nn as nn\n",
    "import torch.optim as optim\n",
    "from torchvision import datasets, transforms\n",
    "from torch.utils.data import DataLoader, Subset\n",
    "import numpy as np\n",
    "import copy"
   ]
  },
  {
   "cell_type": "code",
   "execution_count": 8,
   "metadata": {},
   "outputs": [],
   "source": [
    "class SampleNet(nn.Module):\n",
    "    def __init__(self, *args, **kwargs):\n",
    "        super().__init__(*args, **kwargs)\n",
    "        self.input_layer = nn.Conv2d(in_channels=1, out_channels=4, kernel_size=3) # 28*28*1 -> 26*26*4\n",
    "        self.pooling = nn.MaxPool2d(kernel_size=2) \n",
    "        self.activation = nn.ReLU()\n",
    "        self.conv = nn.Conv2d(in_channels=4, out_channels=16, kernel_size=3)\n",
    "        self.flatten = nn.Flatten()\n",
    "        self.linear = nn.Linear(in_features=11*11*16, out_features=512)\n",
    "        self.dropout = nn.Dropout(0.2)\n",
    "        self.output = nn.Linear(in_features=512, out_features=10)\n",
    "    \n",
    "    def forward(self, x):\n",
    "        x = self.pooling(self.activation(self.input_layer(x))) # 28 * 28 * 1 -> 26 * 26 * 4 -> 13 * 13 * 4\n",
    "        x = self.activation(self.conv(x)) # 13 * 13 * 4 -> 11 * 11 * 16\n",
    "        return self.output(self.dropout(self.linear(self.flatten(x)))) # 11 * 11 * 16 -> 512 -> 10\n",
    "        "
   ]
  },
  {
   "cell_type": "code",
   "execution_count": 9,
   "metadata": {},
   "outputs": [],
   "source": [
    "def evaluate_model(model, test_loader):\n",
    "    model.eval()\n",
    "    correct, total = 0, 0\n",
    "    with torch.no_grad():\n",
    "        for data, target in test_loader:\n",
    "            output = model(data)\n",
    "            pred = output.argmax(dim=1)\n",
    "            correct += (pred == target).sum().item()\n",
    "            total += target.size(0)\n",
    "    accuracy = 100 * correct / total\n",
    "    return accuracy\n",
    "\n",
    "def client_update(model, train_loader, epochs=1, lr=0.01):\n",
    "    model = copy.deepcopy(model)\n",
    "    model.train()\n",
    "    \n",
    "    optimizer = optim.SGD(model.parameters(), lr=lr)\n",
    "    loss_fn = nn.CrossEntropyLoss()\n",
    "    \n",
    "    for _ in range(epochs):\n",
    "        for data, target in train_loader:\n",
    "            optimizer.zero_grad()\n",
    "            output = model(data)\n",
    "            loss = loss_fn(output, target)\n",
    "            loss.backward()\n",
    "            optimizer.step()\n",
    "\n",
    "    return model.state_dict()\n"
   ]
  },
  {
   "cell_type": "code",
   "execution_count": 10,
   "metadata": {},
   "outputs": [],
   "source": [
    "def average_weights(w_list):\n",
    "    avg_w = copy.deepcopy(w_list[0])\n",
    "    for key in avg_w.keys():\n",
    "        for i in range(1, len(w_list)):\n",
    "            avg_w[key] += w_list[i][key]\n",
    "        avg_w[key] = torch.div(avg_w[key], len(w_list))\n",
    "    return avg_w\n"
   ]
  },
  {
   "cell_type": "code",
   "execution_count": 11,
   "metadata": {},
   "outputs": [],
   "source": [
    "global_model = SampleNet()\n",
    "num_rounds = 5\n",
    "num_clients = 3"
   ]
  },
  {
   "cell_type": "code",
   "execution_count": 12,
   "metadata": {},
   "outputs": [],
   "source": [
    "transform = transforms.ToTensor()\n",
    "mnist_data = datasets.MNIST(root='./data', train=True, download=True, transform=transform)\n",
    "test_data = datasets.MNIST(root='./data', train=False, download=True, transform=transform)\n",
    "\n",
    "client_data_indices = np.array_split(np.arange(len(mnist_data)), 3)\n",
    "client_loaders = [DataLoader(Subset(mnist_data, idx), batch_size=32, shuffle=True) for idx in client_data_indices]\n",
    "test_loader = DataLoader(test_data, batch_size=64, shuffle=False)\n"
   ]
  },
  {
   "cell_type": "code",
   "execution_count": 13,
   "metadata": {},
   "outputs": [
    {
     "name": "stdout",
     "output_type": "stream",
     "text": [
      "\n",
      "--- Round 1 ---\n",
      "Global Test Accuracy: 89.59%\n",
      "\n",
      "--- Round 2 ---\n",
      "Global Test Accuracy: 91.68%\n",
      "\n",
      "--- Round 3 ---\n",
      "Global Test Accuracy: 93.19%\n",
      "\n",
      "--- Round 4 ---\n",
      "Global Test Accuracy: 94.26%\n",
      "\n",
      "--- Round 5 ---\n",
      "Global Test Accuracy: 95.39%\n"
     ]
    }
   ],
   "source": [
    "for round in range(num_rounds):\n",
    "    print(f\"\\n--- Round {round+1} ---\")\n",
    "    local_weights = []\n",
    "\n",
    "    for client_id in range(num_clients):\n",
    "        client_model = copy.deepcopy(global_model)\n",
    "        local_w = client_update(client_model, client_loaders[client_id], epochs=1)\n",
    "        local_weights.append(local_w)\n",
    "\n",
    "    global_weights = average_weights(local_weights)\n",
    "    global_model.load_state_dict(global_weights)\n",
    "\n",
    "    acc = evaluate_model(global_model, test_loader)\n",
    "    print(f\"Global Test Accuracy: {acc:.2f}%\")"
   ]
  },
  {
   "cell_type": "code",
   "execution_count": null,
   "metadata": {},
   "outputs": [],
   "source": []
  }
 ],
 "metadata": {
  "kernelspec": {
   "display_name": "pytorch",
   "language": "python",
   "name": "python3"
  },
  "language_info": {
   "codemirror_mode": {
    "name": "ipython",
    "version": 3
   },
   "file_extension": ".py",
   "mimetype": "text/x-python",
   "name": "python",
   "nbconvert_exporter": "python",
   "pygments_lexer": "ipython3",
   "version": "3.12.9"
  }
 },
 "nbformat": 4,
 "nbformat_minor": 2
}
