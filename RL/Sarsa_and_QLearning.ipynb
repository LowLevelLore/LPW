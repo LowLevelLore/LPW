{
 "cells": [
  {
   "cell_type": "code",
   "execution_count": 2,
   "metadata": {},
   "outputs": [],
   "source": [
    "import gym\n",
    "import numpy as np\n",
    "import random\n",
    "\n",
    "env = gym.make(\"Blackjack-v1\", sab=True)\n",
    "\n",
    "EPISODES = 500_0\n",
    "GAMMA = 1.0\n",
    "ALPHA = 0.1\n",
    "EPSILON = 0.1\n",
    "ACTIONS = [0, 1]  # stick, hit\n",
    "\n",
    "# Initialize Q-table\n",
    "def init_Q():\n",
    "    return {}  # Q[state] = np.array([q_stick, q_hit])\n",
    "\n",
    "# Epsilon-greedy action selection\n",
    "def epsilon_greedy(state, Q):\n",
    "    if state not in Q:\n",
    "        Q[state] = np.zeros(len(ACTIONS))\n",
    "    if random.random() < EPSILON:\n",
    "        return random.choice(ACTIONS)\n",
    "    else:\n",
    "        return np.argmax(Q[state])\n",
    "\n",
    "# --- SARSA Implementation ---\n",
    "def train_sarsa():\n",
    "    Q = init_Q()\n",
    "    for episode in range(EPISODES):\n",
    "        state = env.reset()[0]\n",
    "        action = epsilon_greedy(state, Q)\n",
    "        done = False\n",
    "\n",
    "        while not done:\n",
    "            next_state, reward, terminated, truncated, _ = env.step(action)\n",
    "            done = terminated or truncated\n",
    "            if next_state not in Q:\n",
    "                Q[next_state] = np.zeros(len(ACTIONS))\n",
    "            next_action = epsilon_greedy(next_state, Q)\n",
    "            \n",
    "            Q[state][action] += ALPHA * (reward + GAMMA * Q[next_state][next_action] - Q[state][action])\n",
    "            \n",
    "            state = next_state\n",
    "            action = next_action\n",
    "\n",
    "    return Q\n",
    "\n",
    "# --- Q-Learning Implementation ---\n",
    "def train_q_learning():\n",
    "    Q = init_Q()\n",
    "    for episode in range(EPISODES):\n",
    "        state = env.reset()[0]\n",
    "        done = False\n",
    "\n",
    "        while not done:\n",
    "            action = epsilon_greedy(state, Q)\n",
    "            next_state, reward, terminated, truncated, _ = env.step(action)\n",
    "            done = terminated or truncated\n",
    "            if next_state not in Q:\n",
    "                Q[next_state] = np.zeros(len(ACTIONS))\n",
    "\n",
    "            Q[state][action] += ALPHA * (reward + GAMMA * np.max(Q[next_state]) - Q[state][action])\n",
    "            state = next_state\n",
    "\n",
    "    return Q\n"
   ]
  },
  {
   "cell_type": "code",
   "execution_count": 3,
   "metadata": {},
   "outputs": [
    {
     "name": "stderr",
     "output_type": "stream",
     "text": [
      "/home/xZist/miniconda3/envs/tf-gpu/lib/python3.12/site-packages/gym/utils/passive_env_checker.py:233: DeprecationWarning: `np.bool8` is a deprecated alias for `np.bool_`.  (Deprecated NumPy 1.24)\n",
      "  if not isinstance(terminated, (bool, np.bool8)):\n"
     ]
    },
    {
     "name": "stdout",
     "output_type": "stream",
     "text": [
      "\n",
      "SARSA: Best action in state (20, 10, False): 0\n",
      "Q-Learning: Best action in state (20, 10, False): 0\n"
     ]
    }
   ],
   "source": [
    "# Train\n",
    "q_sarsa = train_sarsa()\n",
    "q_qlearn = train_q_learning()\n",
    "\n",
    "# Sample action comparison\n",
    "state = (20, 10, False)\n",
    "print(f\"\\nSARSA: Best action in state {state}: {np.argmax(q_sarsa[state])}\")\n",
    "print(f\"Q-Learning: Best action in state {state}: {np.argmax(q_qlearn[state])}\")\n"
   ]
  },
  {
   "cell_type": "code",
   "execution_count": null,
   "metadata": {},
   "outputs": [],
   "source": []
  }
 ],
 "metadata": {
  "kernelspec": {
   "display_name": "tf-gpu",
   "language": "python",
   "name": "python3"
  },
  "language_info": {
   "codemirror_mode": {
    "name": "ipython",
    "version": 3
   },
   "file_extension": ".py",
   "mimetype": "text/x-python",
   "name": "python",
   "nbconvert_exporter": "python",
   "pygments_lexer": "ipython3",
   "version": "3.12.8"
  }
 },
 "nbformat": 4,
 "nbformat_minor": 2
}
